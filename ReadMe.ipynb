{
 "cells": [
  {
   "cell_type": "markdown",
   "metadata": {},
   "source": [
    "# Nature Inspired Computation Individual Assessment"
   ]
  },
  {
   "cell_type": "markdown",
   "metadata": {},
   "source": [
    "## Description\n",
    "\n",
    "This project looks to solve the Travelling Salesman Problem using a Genetic Algorithm. It includes various different operators, where different combinations attain different results. For this Project, I test my algorithms on the Burma14 and Brazil58 data sets. The Jupyter File also includes different results collection and plotting cells."
   ]
  },
  {
   "cell_type": "markdown",
   "metadata": {},
   "source": [
    "## Usage\n",
    "\n",
    "### Create the population. This includes several funtions:\n",
    "\n",
    "### 1. get_root(xml_file):\n",
    "\n",
    "Description:   Parse through given xml file to obtain the root\n",
    "\n",
    "Parameters:\n",
    "- xml_file:  the xml file\n",
    "\n",
    "Returns:\n",
    "element: Root of the file\n",
    "\n",
    "### 2. generate_cost_data(root):\n",
    "Description:   Extract the raw data to create a dicitionary containing the information of all the possible costs from travelling from city i to city j\n",
    "            \n",
    "Parameters:        \n",
    "- root: the root of the xml file\n",
    "\n",
    "Returns: \n",
    "node_cost(dict) : Cities as key, list of all other cities to travel to as value\n",
    "\n",
    "### 3. initial_population(node_cost, population_size, seed_value):\n",
    "Description    Generate our initial random population of potential routes\n",
    "\n",
    "Parameters:\n",
    "- node_cost (dict): dictionary containing all city to city information\n",
    "- population_size (int): size of the desired population\n",
    "- seed_value (int): value for random seed\n",
    "\n",
    "Returns: \n",
    "Population (list): List of lists of random routes the salesman can take\n",
    "    \n",
    "### 4. "
   ]
  },
  {
   "cell_type": "markdown",
   "metadata": {},
   "source": [
    "## Usage\n",
    "\n",
    "### 1. Create the population. Run this cell for the functions that create our initial population\n",
    "This includes several funtions that create our database containing two columns: 'Cost' and 'Route'\n",
    "'Cost' calculates the cost of a route, including the journey back to the start city. It uses the calculate_route_cost function\n",
    "'Route' contains a list of a given route. Our initial routes are created randomly, using the initial_population function\n",
    "\n",
    "### 2. Mutations functions. Run this cell for the functions that we use in our EA\n",
    "This contains all the varity of mutations and operators we use for our EA.\n",
    "\n",
    "### 3. Termination criteria. We include many different termination criteria cells\n",
    "- 'TERMINATION CRITERIA - update after each gen for convergence curve plots'\n",
    "  - This termination criteria is used for the convergence curve plots. I dont use this for results in my report, but it records the minimum cost for every generation\n",
    "- 'TERMINATION CRITERIA - just update when new best for scatter plots'\n",
    "  - This crieteria is used for most of our parameter testing. The function records the best cost up until the nth round. If a superior route is found, it is added into the dataframe, and becomes the current best.\n",
    "- 'TERMINATION CRITERIA - inverse swap rather than normal swap'\n",
    "  - This criteria is again not used within the report, and records the minimum cost for every generation. It includes the inverse swap rather than the single swap\n",
    "- 'TERMINATION CRITERIA - inverse swap - update when new best'\n",
    "  - This criteria records the minimum cost for every generation. It includes the inverse swap rather than the single swap. We use it within our final EA testing\n",
    "\n",
    "### 4. EVOLUTIONARY ALGORITHIM - for testing the operators (generate population and controls)\n",
    "This cell is used for the parameter testing. It includes adjustable variables to run all of our tests in the results section. Change varaibles to obtain the results of our tests, with the seed = 1.\n",
    "This cell also contains the save_file variable, which needs to be adjusted to an appropriate name for each test. This file is later recalled for plots. Note - burma and brazil results should not share the same name, and save with a destinguished difference. Save as a csv\n",
    "\n",
    "### 5. Results cells. We have different results cells to run for the different tests\n",
    "- 'Tournament size test'\n",
    "  - Run this cell, with the appropriate variables from the previous cell, to obtain the dataframe of results for adjusting tournamenet size\n",
    "- 'Swap Mutation test'\n",
    "  - Run this cell, with the appropriate variables from the EA cell, to obtain the dataframe of results for adjusting swap size. Also includes inverse swap\n",
    "- 'Crossover test'\n",
    "  - Run this cell, with the appropriate variables from the EA cell, to obtain the dataframe of results for changing the crossover type\n",
    "- 'Replacement test'\n",
    "  - Run this cell, with the appropriate variables from the EA cell, to obtain the dataframe of results for changing the replacement strategy\n",
    "\n",
    "### 6. Plots. We have a couple of different plots cells, for indvidual plots or joint\n",
    "- 'Individual Plots'\n",
    "  - Run this cell, adjusting the save_file varaible to whichever csv file desired. Each CSV 'save_file' will contain testing results for either burma or brazil\n",
    "  - Plots an indivdual scatter plot for the recording of best cost data.\n",
    "- 'Joint Plots'\n",
    "  - Run this cell adjusting the burma_results and brazil_results varaibles to the desired csv files. Plots a joint plot, which shares the same x axis\n",
    "  - Mainly used in my report to compare the two data sets\n",
    "\n",
    "### 7. Best EA cells. We have a few cells for this, to generate then plot the data\n",
    "-  'Generate data for the different EA's'\n",
    "  - This works similar to the EA cell. It includes the different variables of the EAs we compare, that can be adjusted if needed. Run this cell without changes to obtain the same results\n",
    "  - Returns csv for whichever country dataset loaded in\n",
    "- Best EA - plot to evaluate perfromance of diff EA's\n",
    "  - Creates the boxplot of the best EA results\n",
    "  - Change filepaths for burma_results and brazil_results if required\n",
    "\n",
    " "
   ]
  }
 ],
 "metadata": {
  "kernelspec": {
   "display_name": "base",
   "language": "python",
   "name": "python3"
  },
  "language_info": {
   "codemirror_mode": {
    "name": "ipython",
    "version": 3
   },
   "file_extension": ".py",
   "mimetype": "text/x-python",
   "name": "python",
   "nbconvert_exporter": "python",
   "pygments_lexer": "ipython3",
   "version": "3.11.4"
  },
  "orig_nbformat": 4
 },
 "nbformat": 4,
 "nbformat_minor": 2
}
